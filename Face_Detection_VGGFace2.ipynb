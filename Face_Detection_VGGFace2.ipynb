{
  "nbformat": 4,
  "nbformat_minor": 0,
  "metadata": {
    "colab": {
      "name": "Face_Detection_VGGFace2.ipynb",
      "provenance": [],
      "collapsed_sections": [],
      "toc_visible": true
    },
    "kernelspec": {
      "name": "python3",
      "display_name": "Python 3"
    },
    "accelerator": "GPU"
  },
  "cells": [
    {
      "cell_type": "code",
      "metadata": {
        "id": "zljyUH7ZFvsE",
        "colab_type": "code",
        "colab": {
          "base_uri": "https://localhost:8080/",
          "height": 377
        },
        "outputId": "47a0dc33-4c3c-4bac-e9c0-3633d4598eda"
      },
      "source": [
        "!pip install git+https://github.com/rcmalli/keras-vggface.git"
      ],
      "execution_count": 1,
      "outputs": [
        {
          "output_type": "stream",
          "text": [
            "Collecting git+https://github.com/rcmalli/keras-vggface.git\n",
            "  Cloning https://github.com/rcmalli/keras-vggface.git to /tmp/pip-req-build-l58ojjsd\n",
            "  Running command git clone -q https://github.com/rcmalli/keras-vggface.git /tmp/pip-req-build-l58ojjsd\n",
            "Requirement already satisfied: numpy>=1.9.1 in /usr/local/lib/python3.6/dist-packages (from keras-vggface==0.6) (1.17.3)\n",
            "Requirement already satisfied: scipy>=0.14 in /usr/local/lib/python3.6/dist-packages (from keras-vggface==0.6) (1.3.1)\n",
            "Requirement already satisfied: h5py in /usr/local/lib/python3.6/dist-packages (from keras-vggface==0.6) (2.8.0)\n",
            "Requirement already satisfied: pillow in /usr/local/lib/python3.6/dist-packages (from keras-vggface==0.6) (4.3.0)\n",
            "Requirement already satisfied: keras in /usr/local/lib/python3.6/dist-packages (from keras-vggface==0.6) (2.2.5)\n",
            "Requirement already satisfied: six>=1.9.0 in /usr/local/lib/python3.6/dist-packages (from keras-vggface==0.6) (1.12.0)\n",
            "Requirement already satisfied: pyyaml in /usr/local/lib/python3.6/dist-packages (from keras-vggface==0.6) (3.13)\n",
            "Requirement already satisfied: olefile in /usr/local/lib/python3.6/dist-packages (from pillow->keras-vggface==0.6) (0.46)\n",
            "Requirement already satisfied: keras-preprocessing>=1.1.0 in /usr/local/lib/python3.6/dist-packages (from keras->keras-vggface==0.6) (1.1.0)\n",
            "Requirement already satisfied: keras-applications>=1.0.8 in /usr/local/lib/python3.6/dist-packages (from keras->keras-vggface==0.6) (1.0.8)\n",
            "Building wheels for collected packages: keras-vggface\n",
            "  Building wheel for keras-vggface (setup.py) ... \u001b[?25l\u001b[?25hdone\n",
            "  Created wheel for keras-vggface: filename=keras_vggface-0.6-cp36-none-any.whl size=8311 sha256=c755130b4fe019dc744004441c8e7174446435b56cb2549cd78e6fd8eb71c6f3\n",
            "  Stored in directory: /tmp/pip-ephem-wheel-cache-ea23fz4f/wheels/36/07/46/06c25ce8e9cd396dabe151ea1d8a2bc28dafcb11321c1f3a6d\n",
            "Successfully built keras-vggface\n",
            "Installing collected packages: keras-vggface\n",
            "Successfully installed keras-vggface-0.6\n"
          ],
          "name": "stdout"
        }
      ]
    },
    {
      "cell_type": "code",
      "metadata": {
        "id": "kOgC2QqoGBk9",
        "colab_type": "code",
        "colab": {
          "base_uri": "https://localhost:8080/",
          "height": 187
        },
        "outputId": "ff0e355d-5b6f-476d-e986-0193d3293b8d"
      },
      "source": [
        "!pip show keras-vggface"
      ],
      "execution_count": 2,
      "outputs": [
        {
          "output_type": "stream",
          "text": [
            "Name: keras-vggface\n",
            "Version: 0.6\n",
            "Summary: VGGFace implementation with Keras framework\n",
            "Home-page: https://github.com/rcmalli/keras-vggface\n",
            "Author: Refik Can MALLI\n",
            "Author-email: mallir@itu.edu.tr\n",
            "License: MIT\n",
            "Location: /usr/local/lib/python3.6/dist-packages\n",
            "Requires: h5py, numpy, six, scipy, keras, pyyaml, pillow\n",
            "Required-by: \n"
          ],
          "name": "stdout"
        }
      ]
    },
    {
      "cell_type": "code",
      "metadata": {
        "id": "rH6G5UsyGKZu",
        "colab_type": "code",
        "colab": {
          "base_uri": "https://localhost:8080/",
          "height": 207
        },
        "outputId": "f591f23a-2390-497e-b526-b0492cecad14"
      },
      "source": [
        "!pip install mtcnn"
      ],
      "execution_count": 3,
      "outputs": [
        {
          "output_type": "stream",
          "text": [
            "Collecting mtcnn\n",
            "\u001b[?25l  Downloading https://files.pythonhosted.org/packages/9e/c7/8546b18fbd367b156c5bbbbaa8912ab31c8129171523ff8b47b546d70b09/mtcnn-0.0.9.tar.gz (2.3MB)\n",
            "\r\u001b[K     |▏                               | 10kB 24.3MB/s eta 0:00:01\r\u001b[K     |▎                               | 20kB 6.6MB/s eta 0:00:01\r\u001b[K     |▍                               | 30kB 9.3MB/s eta 0:00:01\r\u001b[K     |▋                               | 40kB 5.9MB/s eta 0:00:01\r\u001b[K     |▊                               | 51kB 7.2MB/s eta 0:00:01\r\u001b[K     |▉                               | 61kB 8.5MB/s eta 0:00:01\r\u001b[K     |█                               | 71kB 9.7MB/s eta 0:00:01\r\u001b[K     |█▏                              | 81kB 10.8MB/s eta 0:00:01\r\u001b[K     |█▎                              | 92kB 12.0MB/s eta 0:00:01\r\u001b[K     |█▌                              | 102kB 9.5MB/s eta 0:00:01\r\u001b[K     |█▋                              | 112kB 9.5MB/s eta 0:00:01\r\u001b[K     |█▊                              | 122kB 9.5MB/s eta 0:00:01\r\u001b[K     |█▉                              | 133kB 9.5MB/s eta 0:00:01\r\u001b[K     |██                              | 143kB 9.5MB/s eta 0:00:01\r\u001b[K     |██▏                             | 153kB 9.5MB/s eta 0:00:01\r\u001b[K     |██▎                             | 163kB 9.5MB/s eta 0:00:01\r\u001b[K     |██▌                             | 174kB 9.5MB/s eta 0:00:01\r\u001b[K     |██▋                             | 184kB 9.5MB/s eta 0:00:01\r\u001b[K     |██▊                             | 194kB 9.5MB/s eta 0:00:01\r\u001b[K     |███                             | 204kB 9.5MB/s eta 0:00:01\r\u001b[K     |███                             | 215kB 9.5MB/s eta 0:00:01\r\u001b[K     |███▏                            | 225kB 9.5MB/s eta 0:00:01\r\u001b[K     |███▍                            | 235kB 9.5MB/s eta 0:00:01\r\u001b[K     |███▌                            | 245kB 9.5MB/s eta 0:00:01\r\u001b[K     |███▋                            | 256kB 9.5MB/s eta 0:00:01\r\u001b[K     |███▊                            | 266kB 9.5MB/s eta 0:00:01\r\u001b[K     |████                            | 276kB 9.5MB/s eta 0:00:01\r\u001b[K     |████                            | 286kB 9.5MB/s eta 0:00:01\r\u001b[K     |████▏                           | 296kB 9.5MB/s eta 0:00:01\r\u001b[K     |████▍                           | 307kB 9.5MB/s eta 0:00:01\r\u001b[K     |████▌                           | 317kB 9.5MB/s eta 0:00:01\r\u001b[K     |████▋                           | 327kB 9.5MB/s eta 0:00:01\r\u001b[K     |████▉                           | 337kB 9.5MB/s eta 0:00:01\r\u001b[K     |█████                           | 348kB 9.5MB/s eta 0:00:01\r\u001b[K     |█████                           | 358kB 9.5MB/s eta 0:00:01\r\u001b[K     |█████▎                          | 368kB 9.5MB/s eta 0:00:01\r\u001b[K     |█████▍                          | 378kB 9.5MB/s eta 0:00:01\r\u001b[K     |█████▌                          | 389kB 9.5MB/s eta 0:00:01\r\u001b[K     |█████▋                          | 399kB 9.5MB/s eta 0:00:01\r\u001b[K     |█████▉                          | 409kB 9.5MB/s eta 0:00:01\r\u001b[K     |██████                          | 419kB 9.5MB/s eta 0:00:01\r\u001b[K     |██████                          | 430kB 9.5MB/s eta 0:00:01\r\u001b[K     |██████▎                         | 440kB 9.5MB/s eta 0:00:01\r\u001b[K     |██████▍                         | 450kB 9.5MB/s eta 0:00:01\r\u001b[K     |██████▌                         | 460kB 9.5MB/s eta 0:00:01\r\u001b[K     |██████▊                         | 471kB 9.5MB/s eta 0:00:01\r\u001b[K     |██████▉                         | 481kB 9.5MB/s eta 0:00:01\r\u001b[K     |███████                         | 491kB 9.5MB/s eta 0:00:01\r\u001b[K     |███████▏                        | 501kB 9.5MB/s eta 0:00:01\r\u001b[K     |███████▎                        | 512kB 9.5MB/s eta 0:00:01\r\u001b[K     |███████▍                        | 522kB 9.5MB/s eta 0:00:01\r\u001b[K     |███████▌                        | 532kB 9.5MB/s eta 0:00:01\r\u001b[K     |███████▊                        | 542kB 9.5MB/s eta 0:00:01\r\u001b[K     |███████▉                        | 552kB 9.5MB/s eta 0:00:01\r\u001b[K     |████████                        | 563kB 9.5MB/s eta 0:00:01\r\u001b[K     |████████▏                       | 573kB 9.5MB/s eta 0:00:01\r\u001b[K     |████████▎                       | 583kB 9.5MB/s eta 0:00:01\r\u001b[K     |████████▍                       | 593kB 9.5MB/s eta 0:00:01\r\u001b[K     |████████▋                       | 604kB 9.5MB/s eta 0:00:01\r\u001b[K     |████████▊                       | 614kB 9.5MB/s eta 0:00:01\r\u001b[K     |████████▉                       | 624kB 9.5MB/s eta 0:00:01\r\u001b[K     |█████████                       | 634kB 9.5MB/s eta 0:00:01\r\u001b[K     |█████████▏                      | 645kB 9.5MB/s eta 0:00:01\r\u001b[K     |█████████▎                      | 655kB 9.5MB/s eta 0:00:01\r\u001b[K     |█████████▍                      | 665kB 9.5MB/s eta 0:00:01\r\u001b[K     |█████████▋                      | 675kB 9.5MB/s eta 0:00:01\r\u001b[K     |█████████▊                      | 686kB 9.5MB/s eta 0:00:01\r\u001b[K     |█████████▉                      | 696kB 9.5MB/s eta 0:00:01\r\u001b[K     |██████████                      | 706kB 9.5MB/s eta 0:00:01\r\u001b[K     |██████████▏                     | 716kB 9.5MB/s eta 0:00:01\r\u001b[K     |██████████▎                     | 727kB 9.5MB/s eta 0:00:01\r\u001b[K     |██████████▌                     | 737kB 9.5MB/s eta 0:00:01\r\u001b[K     |██████████▋                     | 747kB 9.5MB/s eta 0:00:01\r\u001b[K     |██████████▊                     | 757kB 9.5MB/s eta 0:00:01\r\u001b[K     |███████████                     | 768kB 9.5MB/s eta 0:00:01\r\u001b[K     |███████████                     | 778kB 9.5MB/s eta 0:00:01\r\u001b[K     |███████████▏                    | 788kB 9.5MB/s eta 0:00:01\r\u001b[K     |███████████▎                    | 798kB 9.5MB/s eta 0:00:01\r\u001b[K     |███████████▌                    | 808kB 9.5MB/s eta 0:00:01\r\u001b[K     |███████████▋                    | 819kB 9.5MB/s eta 0:00:01\r\u001b[K     |███████████▊                    | 829kB 9.5MB/s eta 0:00:01\r\u001b[K     |████████████                    | 839kB 9.5MB/s eta 0:00:01\r\u001b[K     |████████████                    | 849kB 9.5MB/s eta 0:00:01\r\u001b[K     |████████████▏                   | 860kB 9.5MB/s eta 0:00:01\r\u001b[K     |████████████▍                   | 870kB 9.5MB/s eta 0:00:01\r\u001b[K     |████████████▌                   | 880kB 9.5MB/s eta 0:00:01\r\u001b[K     |████████████▋                   | 890kB 9.5MB/s eta 0:00:01\r\u001b[K     |████████████▉                   | 901kB 9.5MB/s eta 0:00:01\r\u001b[K     |█████████████                   | 911kB 9.5MB/s eta 0:00:01\r\u001b[K     |█████████████                   | 921kB 9.5MB/s eta 0:00:01\r\u001b[K     |█████████████▏                  | 931kB 9.5MB/s eta 0:00:01\r\u001b[K     |█████████████▍                  | 942kB 9.5MB/s eta 0:00:01\r\u001b[K     |█████████████▌                  | 952kB 9.5MB/s eta 0:00:01\r\u001b[K     |█████████████▋                  | 962kB 9.5MB/s eta 0:00:01\r\u001b[K     |█████████████▉                  | 972kB 9.5MB/s eta 0:00:01\r\u001b[K     |██████████████                  | 983kB 9.5MB/s eta 0:00:01\r\u001b[K     |██████████████                  | 993kB 9.5MB/s eta 0:00:01\r\u001b[K     |██████████████▎                 | 1.0MB 9.5MB/s eta 0:00:01\r\u001b[K     |██████████████▍                 | 1.0MB 9.5MB/s eta 0:00:01\r\u001b[K     |██████████████▌                 | 1.0MB 9.5MB/s eta 0:00:01\r\u001b[K     |██████████████▊                 | 1.0MB 9.5MB/s eta 0:00:01\r\u001b[K     |██████████████▉                 | 1.0MB 9.5MB/s eta 0:00:01\r\u001b[K     |███████████████                 | 1.1MB 9.5MB/s eta 0:00:01\r\u001b[K     |███████████████                 | 1.1MB 9.5MB/s eta 0:00:01\r\u001b[K     |███████████████▎                | 1.1MB 9.5MB/s eta 0:00:01\r\u001b[K     |███████████████▍                | 1.1MB 9.5MB/s eta 0:00:01\r\u001b[K     |███████████████▌                | 1.1MB 9.5MB/s eta 0:00:01\r\u001b[K     |███████████████▊                | 1.1MB 9.5MB/s eta 0:00:01\r\u001b[K     |███████████████▉                | 1.1MB 9.5MB/s eta 0:00:01\r\u001b[K     |████████████████                | 1.1MB 9.5MB/s eta 0:00:01\r\u001b[K     |████████████████▏               | 1.1MB 9.5MB/s eta 0:00:01\r\u001b[K     |████████████████▎               | 1.1MB 9.5MB/s eta 0:00:01\r\u001b[K     |████████████████▍               | 1.2MB 9.5MB/s eta 0:00:01\r\u001b[K     |████████████████▋               | 1.2MB 9.5MB/s eta 0:00:01\r\u001b[K     |████████████████▊               | 1.2MB 9.5MB/s eta 0:00:01\r\u001b[K     |████████████████▉               | 1.2MB 9.5MB/s eta 0:00:01\r\u001b[K     |█████████████████               | 1.2MB 9.5MB/s eta 0:00:01\r\u001b[K     |█████████████████▏              | 1.2MB 9.5MB/s eta 0:00:01\r\u001b[K     |█████████████████▎              | 1.2MB 9.5MB/s eta 0:00:01\r\u001b[K     |█████████████████▍              | 1.2MB 9.5MB/s eta 0:00:01\r\u001b[K     |█████████████████▋              | 1.2MB 9.5MB/s eta 0:00:01\r\u001b[K     |█████████████████▊              | 1.2MB 9.5MB/s eta 0:00:01\r\u001b[K     |█████████████████▉              | 1.3MB 9.5MB/s eta 0:00:01\r\u001b[K     |██████████████████              | 1.3MB 9.5MB/s eta 0:00:01\r\u001b[K     |██████████████████▏             | 1.3MB 9.5MB/s eta 0:00:01\r\u001b[K     |██████████████████▎             | 1.3MB 9.5MB/s eta 0:00:01\r\u001b[K     |██████████████████▌             | 1.3MB 9.5MB/s eta 0:00:01\r\u001b[K     |██████████████████▋             | 1.3MB 9.5MB/s eta 0:00:01\r\u001b[K     |██████████████████▊             | 1.3MB 9.5MB/s eta 0:00:01\r\u001b[K     |██████████████████▉             | 1.3MB 9.5MB/s eta 0:00:01\r\u001b[K     |███████████████████             | 1.3MB 9.5MB/s eta 0:00:01\r\u001b[K     |███████████████████▏            | 1.4MB 9.5MB/s eta 0:00:01\r\u001b[K     |███████████████████▎            | 1.4MB 9.5MB/s eta 0:00:01\r\u001b[K     |███████████████████▌            | 1.4MB 9.5MB/s eta 0:00:01\r\u001b[K     |███████████████████▋            | 1.4MB 9.5MB/s eta 0:00:01\r\u001b[K     |███████████████████▊            | 1.4MB 9.5MB/s eta 0:00:01\r\u001b[K     |████████████████████            | 1.4MB 9.5MB/s eta 0:00:01\r\u001b[K     |████████████████████            | 1.4MB 9.5MB/s eta 0:00:01\r\u001b[K     |████████████████████▏           | 1.4MB 9.5MB/s eta 0:00:01\r\u001b[K     |████████████████████▍           | 1.4MB 9.5MB/s eta 0:00:01\r\u001b[K     |████████████████████▌           | 1.4MB 9.5MB/s eta 0:00:01\r\u001b[K     |████████████████████▋           | 1.5MB 9.5MB/s eta 0:00:01\r\u001b[K     |████████████████████▊           | 1.5MB 9.5MB/s eta 0:00:01\r\u001b[K     |█████████████████████           | 1.5MB 9.5MB/s eta 0:00:01\r\u001b[K     |█████████████████████           | 1.5MB 9.5MB/s eta 0:00:01\r\u001b[K     |█████████████████████▏          | 1.5MB 9.5MB/s eta 0:00:01\r\u001b[K     |█████████████████████▍          | 1.5MB 9.5MB/s eta 0:00:01\r\u001b[K     |█████████████████████▌          | 1.5MB 9.5MB/s eta 0:00:01\r\u001b[K     |█████████████████████▋          | 1.5MB 9.5MB/s eta 0:00:01\r\u001b[K     |█████████████████████▉          | 1.5MB 9.5MB/s eta 0:00:01\r\u001b[K     |██████████████████████          | 1.5MB 9.5MB/s eta 0:00:01\r\u001b[K     |██████████████████████          | 1.6MB 9.5MB/s eta 0:00:01\r\u001b[K     |██████████████████████▎         | 1.6MB 9.5MB/s eta 0:00:01\r\u001b[K     |██████████████████████▍         | 1.6MB 9.5MB/s eta 0:00:01\r\u001b[K     |██████████████████████▌         | 1.6MB 9.5MB/s eta 0:00:01\r\u001b[K     |██████████████████████▋         | 1.6MB 9.5MB/s eta 0:00:01\r\u001b[K     |██████████████████████▉         | 1.6MB 9.5MB/s eta 0:00:01\r\u001b[K     |███████████████████████         | 1.6MB 9.5MB/s eta 0:00:01\r\u001b[K     |███████████████████████         | 1.6MB 9.5MB/s eta 0:00:01\r\u001b[K     |███████████████████████▎        | 1.6MB 9.5MB/s eta 0:00:01\r\u001b[K     |███████████████████████▍        | 1.6MB 9.5MB/s eta 0:00:01\r\u001b[K     |███████████████████████▌        | 1.7MB 9.5MB/s eta 0:00:01\r\u001b[K     |███████████████████████▊        | 1.7MB 9.5MB/s eta 0:00:01\r\u001b[K     |███████████████████████▉        | 1.7MB 9.5MB/s eta 0:00:01\r\u001b[K     |████████████████████████        | 1.7MB 9.5MB/s eta 0:00:01\r\u001b[K     |████████████████████████▏       | 1.7MB 9.5MB/s eta 0:00:01\r\u001b[K     |████████████████████████▎       | 1.7MB 9.5MB/s eta 0:00:01\r\u001b[K     |████████████████████████▍       | 1.7MB 9.5MB/s eta 0:00:01\r\u001b[K     |████████████████████████▌       | 1.7MB 9.5MB/s eta 0:00:01\r\u001b[K     |████████████████████████▊       | 1.7MB 9.5MB/s eta 0:00:01\r\u001b[K     |████████████████████████▉       | 1.8MB 9.5MB/s eta 0:00:01\r\u001b[K     |█████████████████████████       | 1.8MB 9.5MB/s eta 0:00:01\r\u001b[K     |█████████████████████████▏      | 1.8MB 9.5MB/s eta 0:00:01\r\u001b[K     |█████████████████████████▎      | 1.8MB 9.5MB/s eta 0:00:01\r\u001b[K     |█████████████████████████▍      | 1.8MB 9.5MB/s eta 0:00:01\r\u001b[K     |█████████████████████████▋      | 1.8MB 9.5MB/s eta 0:00:01\r\u001b[K     |█████████████████████████▊      | 1.8MB 9.5MB/s eta 0:00:01\r\u001b[K     |█████████████████████████▉      | 1.8MB 9.5MB/s eta 0:00:01\r\u001b[K     |██████████████████████████      | 1.8MB 9.5MB/s eta 0:00:01\r\u001b[K     |██████████████████████████▏     | 1.8MB 9.5MB/s eta 0:00:01\r\u001b[K     |██████████████████████████▎     | 1.9MB 9.5MB/s eta 0:00:01\r\u001b[K     |██████████████████████████▍     | 1.9MB 9.5MB/s eta 0:00:01\r\u001b[K     |██████████████████████████▋     | 1.9MB 9.5MB/s eta 0:00:01\r\u001b[K     |██████████████████████████▊     | 1.9MB 9.5MB/s eta 0:00:01\r\u001b[K     |██████████████████████████▉     | 1.9MB 9.5MB/s eta 0:00:01\r\u001b[K     |███████████████████████████     | 1.9MB 9.5MB/s eta 0:00:01\r\u001b[K     |███████████████████████████▏    | 1.9MB 9.5MB/s eta 0:00:01\r\u001b[K     |███████████████████████████▎    | 1.9MB 9.5MB/s eta 0:00:01\r\u001b[K     |███████████████████████████▌    | 1.9MB 9.5MB/s eta 0:00:01\r\u001b[K     |███████████████████████████▋    | 1.9MB 9.5MB/s eta 0:00:01\r\u001b[K     |███████████████████████████▊    | 2.0MB 9.5MB/s eta 0:00:01\r\u001b[K     |███████████████████████████▉    | 2.0MB 9.5MB/s eta 0:00:01\r\u001b[K     |████████████████████████████    | 2.0MB 9.5MB/s eta 0:00:01\r\u001b[K     |████████████████████████████▏   | 2.0MB 9.5MB/s eta 0:00:01\r\u001b[K     |████████████████████████████▎   | 2.0MB 9.5MB/s eta 0:00:01\r\u001b[K     |████████████████████████████▌   | 2.0MB 9.5MB/s eta 0:00:01\r\u001b[K     |████████████████████████████▋   | 2.0MB 9.5MB/s eta 0:00:01\r\u001b[K     |████████████████████████████▊   | 2.0MB 9.5MB/s eta 0:00:01\r\u001b[K     |█████████████████████████████   | 2.0MB 9.5MB/s eta 0:00:01\r\u001b[K     |█████████████████████████████   | 2.0MB 9.5MB/s eta 0:00:01\r\u001b[K     |█████████████████████████████▏  | 2.1MB 9.5MB/s eta 0:00:01\r\u001b[K     |█████████████████████████████▍  | 2.1MB 9.5MB/s eta 0:00:01\r\u001b[K     |█████████████████████████████▌  | 2.1MB 9.5MB/s eta 0:00:01\r\u001b[K     |█████████████████████████████▋  | 2.1MB 9.5MB/s eta 0:00:01\r\u001b[K     |█████████████████████████████▊  | 2.1MB 9.5MB/s eta 0:00:01\r\u001b[K     |██████████████████████████████  | 2.1MB 9.5MB/s eta 0:00:01\r\u001b[K     |██████████████████████████████  | 2.1MB 9.5MB/s eta 0:00:01\r\u001b[K     |██████████████████████████████▏ | 2.1MB 9.5MB/s eta 0:00:01\r\u001b[K     |██████████████████████████████▍ | 2.1MB 9.5MB/s eta 0:00:01\r\u001b[K     |██████████████████████████████▌ | 2.2MB 9.5MB/s eta 0:00:01\r\u001b[K     |██████████████████████████████▋ | 2.2MB 9.5MB/s eta 0:00:01\r\u001b[K     |██████████████████████████████▉ | 2.2MB 9.5MB/s eta 0:00:01\r\u001b[K     |███████████████████████████████ | 2.2MB 9.5MB/s eta 0:00:01\r\u001b[K     |███████████████████████████████ | 2.2MB 9.5MB/s eta 0:00:01\r\u001b[K     |███████████████████████████████▎| 2.2MB 9.5MB/s eta 0:00:01\r\u001b[K     |███████████████████████████████▍| 2.2MB 9.5MB/s eta 0:00:01\r\u001b[K     |███████████████████████████████▌| 2.2MB 9.5MB/s eta 0:00:01\r\u001b[K     |███████████████████████████████▋| 2.2MB 9.5MB/s eta 0:00:01\r\u001b[K     |███████████████████████████████▉| 2.2MB 9.5MB/s eta 0:00:01\r\u001b[K     |████████████████████████████████| 2.3MB 9.5MB/s eta 0:00:01\r\u001b[K     |████████████████████████████████| 2.3MB 9.5MB/s \n",
            "\u001b[?25hBuilding wheels for collected packages: mtcnn\n",
            "  Building wheel for mtcnn (setup.py) ... \u001b[?25l\u001b[?25hdone\n",
            "  Created wheel for mtcnn: filename=mtcnn-0.0.9-cp36-none-any.whl size=2257690 sha256=8728c968476279f049b033bc52f1e4a40d55b58d8efeebe1f13c094e6c95092f\n",
            "  Stored in directory: /root/.cache/pip/wheels/85/81/65/6363fa5aafd7a155c896591e0c7c6e27b69642aa82b9cbf076\n",
            "Successfully built mtcnn\n",
            "Installing collected packages: mtcnn\n",
            "Successfully installed mtcnn-0.0.9\n"
          ],
          "name": "stdout"
        }
      ]
    },
    {
      "cell_type": "code",
      "metadata": {
        "id": "84SzdYJEGX0S",
        "colab_type": "code",
        "colab": {
          "base_uri": "https://localhost:8080/",
          "height": 224
        },
        "outputId": "a5a0b29b-c254-488c-e12a-3afc71529305"
      },
      "source": [
        "!wget https://3qeqpr26caki16dnhd19sv6by6v-wpengine.netdna-ssl.com/wp-content/uploads/2019/03/sharon_stone1.jpg"
      ],
      "execution_count": 5,
      "outputs": [
        {
          "output_type": "stream",
          "text": [
            "--2019-11-08 13:00:54--  https://3qeqpr26caki16dnhd19sv6by6v-wpengine.netdna-ssl.com/wp-content/uploads/2019/03/sharon_stone1.jpg\n",
            "Resolving 3qeqpr26caki16dnhd19sv6by6v-wpengine.netdna-ssl.com (3qeqpr26caki16dnhd19sv6by6v-wpengine.netdna-ssl.com)... 108.161.188.224\n",
            "Connecting to 3qeqpr26caki16dnhd19sv6by6v-wpengine.netdna-ssl.com (3qeqpr26caki16dnhd19sv6by6v-wpengine.netdna-ssl.com)|108.161.188.224|:443... connected.\n",
            "HTTP request sent, awaiting response... 200 OK\n",
            "Length: 82711 (81K) [image/jpeg]\n",
            "Saving to: ‘sharon_stone1.jpg’\n",
            "\n",
            "\rsharon_stone1.jpg     0%[                    ]       0  --.-KB/s               \rsharon_stone1.jpg   100%[===================>]  80.77K  --.-KB/s    in 0.007s  \n",
            "\n",
            "2019-11-08 13:00:54 (11.0 MB/s) - ‘sharon_stone1.jpg’ saved [82711/82711]\n",
            "\n"
          ],
          "name": "stdout"
        }
      ]
    },
    {
      "cell_type": "code",
      "metadata": {
        "id": "oz2v3TzkGoWY",
        "colab_type": "code",
        "colab": {
          "base_uri": "https://localhost:8080/",
          "height": 80
        },
        "outputId": "a695e776-6b0e-489d-cc9b-ede3a49bb387"
      },
      "source": [
        "# example of face detection with mtcnn\n",
        "from matplotlib import pyplot\n",
        "from PIL import Image\n",
        "from numpy import asarray\n",
        "from mtcnn.mtcnn import MTCNN"
      ],
      "execution_count": 6,
      "outputs": [
        {
          "output_type": "display_data",
          "data": {
            "text/html": [
              "<p style=\"color: red;\">\n",
              "The default version of TensorFlow in Colab will soon switch to TensorFlow 2.x.<br>\n",
              "We recommend you <a href=\"https://www.tensorflow.org/guide/migrate\" target=\"_blank\">upgrade</a> now \n",
              "or ensure your notebook will continue to use TensorFlow 1.x via the <code>%tensorflow_version 1.x</code> magic:\n",
              "<a href=\"https://colab.research.google.com/notebooks/tensorflow_version.ipynb\" target=\"_blank\">more info</a>.</p>\n"
            ],
            "text/plain": [
              "<IPython.core.display.HTML object>"
            ]
          },
          "metadata": {
            "tags": []
          }
        }
      ]
    },
    {
      "cell_type": "code",
      "metadata": {
        "id": "qYcNk8JMGvc9",
        "colab_type": "code",
        "colab": {}
      },
      "source": [
        "# Extract a single face from a given photograph\n",
        "def extract_face(filename, required_size=(224, 224)):\n",
        "\t# load image from file\n",
        "\tpixels = pyplot.imread(filename)\n",
        "\t# create the detector, using default weights\n",
        "\tdetector = MTCNN()\n",
        "\t# detect faces in the image\n",
        "\tresults = detector.detect_faces(pixels)\n",
        "\t# extract the bounding box from the first face\n",
        "\tx1, y1, width, height = results[0]['box']\n",
        "\tx2, y2 = x1 + width, y1 + height\n",
        "\t# extract the face\n",
        "\tface = pixels[y1:y2, x1:x2]\n",
        "\t# resize pixels to the model size\n",
        "\timage = Image.fromarray(face)\n",
        "\timage = image.resize(required_size)\n",
        "\tface_array = asarray(image)\n",
        "\treturn face_array"
      ],
      "execution_count": 0,
      "outputs": []
    },
    {
      "cell_type": "code",
      "metadata": {
        "id": "wgLcS4cRHLmG",
        "colab_type": "code",
        "colab": {
          "base_uri": "https://localhost:8080/",
          "height": 578
        },
        "outputId": "43f0d3d6-1c57-44c6-a004-f0c42ffde523"
      },
      "source": [
        "# load the photo and extract the face\n",
        "pixels = extract_face('sharon_stone1.jpg')\n",
        "# plot the extracted face\n",
        "pyplot.imshow(pixels)\n",
        "# show the plot\n",
        "pyplot.show()"
      ],
      "execution_count": 8,
      "outputs": [
        {
          "output_type": "stream",
          "text": [
            "WARNING:tensorflow:From /usr/local/lib/python3.6/dist-packages/mtcnn/mtcnn.py:187: The name tf.ConfigProto is deprecated. Please use tf.compat.v1.ConfigProto instead.\n",
            "\n",
            "WARNING:tensorflow:From /usr/local/lib/python3.6/dist-packages/mtcnn/mtcnn.py:193: The name tf.Session is deprecated. Please use tf.compat.v1.Session instead.\n",
            "\n",
            "WARNING:tensorflow:From /usr/local/lib/python3.6/dist-packages/mtcnn/network.py:43: The name tf.variable_scope is deprecated. Please use tf.compat.v1.variable_scope instead.\n",
            "\n",
            "WARNING:tensorflow:From /usr/local/lib/python3.6/dist-packages/mtcnn/layer_factory.py:88: The name tf.placeholder is deprecated. Please use tf.compat.v1.placeholder instead.\n",
            "\n",
            "WARNING:tensorflow:From /usr/local/lib/python3.6/dist-packages/mtcnn/layer_factory.py:79: The name tf.get_variable is deprecated. Please use tf.compat.v1.get_variable instead.\n",
            "\n",
            "WARNING:tensorflow:From /usr/local/lib/python3.6/dist-packages/mtcnn/layer_factory.py:171: The name tf.nn.max_pool is deprecated. Please use tf.nn.max_pool2d instead.\n",
            "\n",
            "WARNING:tensorflow:From /usr/local/lib/python3.6/dist-packages/mtcnn/layer_factory.py:221: div (from tensorflow.python.ops.math_ops) is deprecated and will be removed in a future version.\n",
            "Instructions for updating:\n",
            "Deprecated in favor of operator or tf.math.divide.\n",
            "WARNING:tensorflow:From /usr/local/lib/python3.6/dist-packages/mtcnn/layer_factory.py:196: The name tf.nn.xw_plus_b is deprecated. Please use tf.compat.v1.nn.xw_plus_b instead.\n",
            "\n"
          ],
          "name": "stdout"
        },
        {
          "output_type": "display_data",
          "data": {
            "image/png": "[encoded data removed]",
            "text/plain": [
              "<Figure size 432x288 with 1 Axes>"
            ]
          },
          "metadata": {
            "tags": []
          }
        }
      ]
    },
    {
      "cell_type": "code",
      "metadata": {
        "id": "fDzn0YawHcRM",
        "colab_type": "code",
        "colab": {
          "base_uri": "https://localhost:8080/",
          "height": 34
        },
        "outputId": "c114a8ac-6be0-4cfa-d3c0-f423fa953bd8"
      },
      "source": [
        "# Example of face detection with a vggface2 model\n",
        "from numpy import expand_dims\n",
        "from matplotlib import pyplot\n",
        "from PIL import Image\n",
        "from numpy import asarray\n",
        "from mtcnn.mtcnn import MTCNN\n",
        "from keras_vggface.vggface import VGGFace\n",
        "from keras_vggface.utils import preprocess_input\n",
        "from keras_vggface.utils import decode_predictions"
      ],
      "execution_count": 9,
      "outputs": [
        {
          "output_type": "stream",
          "text": [
            "Using TensorFlow backend.\n"
          ],
          "name": "stderr"
        }
      ]
    },
    {
      "cell_type": "code",
      "metadata": {
        "id": "pB5C42zaIPYR",
        "colab_type": "code",
        "colab": {}
      },
      "source": [
        "# convert one face into samples\n",
        "pixels = pixels.astype('float32')\n",
        "samples = expand_dims(pixels, axis=0)\n",
        "# prepare the face for the model, e.g. center pixels\n",
        "samples = preprocess_input(samples, version=2)"
      ],
      "execution_count": 0,
      "outputs": []
    },
    {
      "cell_type": "code",
      "metadata": {
        "id": "gS5S-AnSIc0J",
        "colab_type": "code",
        "colab": {
          "base_uri": "https://localhost:8080/",
          "height": 377
        },
        "outputId": "45d419ac-c424-40c4-f27a-a0d20a5bad4d"
      },
      "source": [
        "# create a vggface model\n",
        "model = VGGFace(model='resnet50')\n",
        "# perform prediction\n",
        "yhat = model.predict(samples)"
      ],
      "execution_count": 11,
      "outputs": [
        {
          "output_type": "stream",
          "text": [
            "WARNING:tensorflow:From /usr/local/lib/python3.6/dist-packages/keras/backend/tensorflow_backend.py:66: The name tf.get_default_graph is deprecated. Please use tf.compat.v1.get_default_graph instead.\n",
            "\n",
            "WARNING:tensorflow:From /usr/local/lib/python3.6/dist-packages/keras/backend/tensorflow_backend.py:4432: The name tf.random_uniform is deprecated. Please use tf.random.uniform instead.\n",
            "\n",
            "WARNING:tensorflow:From /usr/local/lib/python3.6/dist-packages/keras/backend/tensorflow_backend.py:190: The name tf.get_default_session is deprecated. Please use tf.compat.v1.get_default_session instead.\n",
            "\n",
            "WARNING:tensorflow:From /usr/local/lib/python3.6/dist-packages/keras/backend/tensorflow_backend.py:207: The name tf.global_variables is deprecated. Please use tf.compat.v1.global_variables instead.\n",
            "\n",
            "WARNING:tensorflow:From /usr/local/lib/python3.6/dist-packages/keras/backend/tensorflow_backend.py:216: The name tf.is_variable_initialized is deprecated. Please use tf.compat.v1.is_variable_initialized instead.\n",
            "\n",
            "WARNING:tensorflow:From /usr/local/lib/python3.6/dist-packages/keras/backend/tensorflow_backend.py:223: The name tf.variables_initializer is deprecated. Please use tf.compat.v1.variables_initializer instead.\n",
            "\n",
            "WARNING:tensorflow:From /usr/local/lib/python3.6/dist-packages/keras/backend/tensorflow_backend.py:2041: The name tf.nn.fused_batch_norm is deprecated. Please use tf.compat.v1.nn.fused_batch_norm instead.\n",
            "\n",
            "WARNING:tensorflow:From /usr/local/lib/python3.6/dist-packages/keras/backend/tensorflow_backend.py:148: The name tf.placeholder_with_default is deprecated. Please use tf.compat.v1.placeholder_with_default instead.\n",
            "\n",
            "WARNING:tensorflow:From /usr/local/lib/python3.6/dist-packages/keras/backend/tensorflow_backend.py:4271: The name tf.nn.avg_pool is deprecated. Please use tf.nn.avg_pool2d instead.\n",
            "\n",
            "Downloading data from https://github.com/rcmalli/keras-vggface/releases/download/v2.0/rcmalli_vggface_tf_resnet50.h5\n",
            "165445632/165439116 [==============================] - 5s 0us/step\n"
          ],
          "name": "stdout"
        }
      ]
    },
    {
      "cell_type": "code",
      "metadata": {
        "id": "uO8lXSXGIloH",
        "colab_type": "code",
        "colab": {
          "base_uri": "https://localhost:8080/",
          "height": 136
        },
        "outputId": "7418d7f2-0ca9-410d-e75e-9f03964ea61b"
      },
      "source": [
        "# convert prediction into names\n",
        "results = decode_predictions(yhat)\n",
        "# display most likely results\n",
        "for result in results[0]:\n",
        "\tprint('%s: %.3f%%' % (result[0], result[1]*100))"
      ],
      "execution_count": 12,
      "outputs": [
        {
          "output_type": "stream",
          "text": [
            "Downloading data from https://github.com/rcmalli/keras-vggface/releases/download/v2.0/rcmalli_vggface_labels_v2.npy\n",
            "1351680/1346516 [==============================] - 1s 0us/step\n",
            "b' Sharon_Stone': 99.642%\n",
            "b' Noelle_Reno': 0.085%\n",
            "b' Elisabeth_R\\xc3\\xb6hm': 0.033%\n",
            "b' Anita_Lipnicka': 0.026%\n",
            "b' Tina_Maze': 0.019%\n"
          ],
          "name": "stdout"
        }
      ]
    },
    {
      "cell_type": "code",
      "metadata": {
        "id": "GI4OkZQcI06D",
        "colab_type": "code",
        "colab": {
          "base_uri": "https://localhost:8080/",
          "height": 224
        },
        "outputId": "3c310d76-3f2d-47b0-ba56-ed5d085a46b8"
      },
      "source": [
        "!wget https://3qeqpr26caki16dnhd19sv6by6v-wpengine.netdna-ssl.com/wp-content/uploads/2019/03/channing_tatum.jpg"
      ],
      "execution_count": 13,
      "outputs": [
        {
          "output_type": "stream",
          "text": [
            "--2019-11-08 13:10:45--  https://3qeqpr26caki16dnhd19sv6by6v-wpengine.netdna-ssl.com/wp-content/uploads/2019/03/channing_tatum.jpg\n",
            "Resolving 3qeqpr26caki16dnhd19sv6by6v-wpengine.netdna-ssl.com (3qeqpr26caki16dnhd19sv6by6v-wpengine.netdna-ssl.com)... 108.161.188.224\n",
            "Connecting to 3qeqpr26caki16dnhd19sv6by6v-wpengine.netdna-ssl.com (3qeqpr26caki16dnhd19sv6by6v-wpengine.netdna-ssl.com)|108.161.188.224|:443... connected.\n",
            "HTTP request sent, awaiting response... 200 OK\n",
            "Length: 230984 (226K) [image/jpeg]\n",
            "Saving to: ‘channing_tatum.jpg’\n",
            "\n",
            "\rchanning_tatum.jpg    0%[                    ]       0  --.-KB/s               \rchanning_tatum.jpg  100%[===================>] 225.57K  --.-KB/s    in 0.02s   \n",
            "\n",
            "2019-11-08 13:10:45 (9.97 MB/s) - ‘channing_tatum.jpg’ saved [230984/230984]\n",
            "\n"
          ],
          "name": "stdout"
        }
      ]
    },
    {
      "cell_type": "code",
      "metadata": {
        "id": "QtWXO2GSI4sM",
        "colab_type": "code",
        "colab": {}
      },
      "source": [
        "pixels = extract_face('channing_tatum.jpg')"
      ],
      "execution_count": 0,
      "outputs": []
    },
    {
      "cell_type": "code",
      "metadata": {
        "id": "EYLD96PzJDoK",
        "colab_type": "code",
        "colab": {
          "base_uri": "https://localhost:8080/",
          "height": 102
        },
        "outputId": "d738341f-d833-47ee-d0aa-6c7d4353d91c"
      },
      "source": [
        "# convert one face into samples\n",
        "pixels = pixels.astype('float32')\n",
        "samples = expand_dims(pixels, axis=0)\n",
        "# prepare the face for the model, e.g. center pixels\n",
        "samples = preprocess_input(samples, version=2)\n",
        "# create a vggface model\n",
        "model = VGGFace(model='resnet50')\n",
        "# perform prediction\n",
        "yhat = model.predict(samples)\n",
        "# convert prediction into names\n",
        "results = decode_predictions(yhat)\n",
        "# display most likely results\n",
        "for result in results[0]:\n",
        "\tprint('%s: %.3f%%' % (result[0], result[1]*100))"
      ],
      "execution_count": 15,
      "outputs": [
        {
          "output_type": "stream",
          "text": [
            "b' Channing_Tatum': 94.433%\n",
            "b' Eoghan_Quigg': 0.146%\n",
            "b' Les_Miles': 0.113%\n",
            "b' Ibrahim_Afellay': 0.072%\n",
            "b' Tovah_Feldshuh': 0.070%\n"
          ],
          "name": "stdout"
        }
      ]
    },
    {
      "cell_type": "code",
      "metadata": {
        "id": "6Q8vQ98cKUpJ",
        "colab_type": "code",
        "colab": {}
      },
      "source": [
        "# face verification with the VGGFace2 model\n",
        "from matplotlib import pyplot\n",
        "from PIL import Image\n",
        "from numpy import asarray\n",
        "from scipy.spatial.distance import cosine\n",
        "from mtcnn.mtcnn import MTCNN\n",
        "from keras_vggface.vggface import VGGFace\n",
        "from keras_vggface.utils import preprocess_input"
      ],
      "execution_count": 0,
      "outputs": []
    },
    {
      "cell_type": "code",
      "metadata": {
        "id": "WU0-RI2OKcgy",
        "colab_type": "code",
        "colab": {}
      },
      "source": [
        "# extract faces and calculate face embeddings for a list of photo files\n",
        "def get_embeddings(filenames):\n",
        "\t# extract faces\n",
        "\tfaces = [extract_face(f) for f in filenames]\n",
        "\t# convert into an array of samples\n",
        "\tsamples = asarray(faces, 'float32')\n",
        "\t# prepare the face for the model, e.g. center pixels\n",
        "\tsamples = preprocess_input(samples, version=2)\n",
        "\t# create a vggface model\n",
        "\tmodel = VGGFace(model='resnet50', include_top=False, input_shape=(224, 224, 3), pooling='avg')\n",
        "\t# perform prediction\n",
        "\tyhat = model.predict(samples)\n",
        "\treturn yhat"
      ],
      "execution_count": 0,
      "outputs": []
    },
    {
      "cell_type": "code",
      "metadata": {
        "id": "GckbDjlQKqzN",
        "colab_type": "code",
        "colab": {}
      },
      "source": [
        "# determine if a candidate face is a match for a known face\n",
        "def is_match(known_embedding, candidate_embedding, thresh=0.5):\n",
        "\t# calculate distance between embeddings\n",
        "\tscore = cosine(known_embedding, candidate_embedding)\n",
        "\tif score <= thresh:\n",
        "\t\tprint('>face is a Match (%.3f <= %.3f)' % (score, thresh))\n",
        "\telse:\n",
        "\t\tprint('>face is NOT a Match (%.3f > %.3f)' % (score, thresh))\n"
      ],
      "execution_count": 0,
      "outputs": []
    },
    {
      "cell_type": "code",
      "metadata": {
        "id": "2NDtoDvEK9EF",
        "colab_type": "code",
        "colab": {
          "base_uri": "https://localhost:8080/",
          "height": 224
        },
        "outputId": "4074d336-0c23-4279-bf1a-038cf8512752"
      },
      "source": [
        "!wget https://3qeqpr26caki16dnhd19sv6by6v-wpengine.netdna-ssl.com/wp-content/uploads/2019/03/sharon_stone2.jpg"
      ],
      "execution_count": 19,
      "outputs": [
        {
          "output_type": "stream",
          "text": [
            "--2019-11-08 13:20:00--  https://3qeqpr26caki16dnhd19sv6by6v-wpengine.netdna-ssl.com/wp-content/uploads/2019/03/sharon_stone2.jpg\n",
            "Resolving 3qeqpr26caki16dnhd19sv6by6v-wpengine.netdna-ssl.com (3qeqpr26caki16dnhd19sv6by6v-wpengine.netdna-ssl.com)... 108.161.188.224\n",
            "Connecting to 3qeqpr26caki16dnhd19sv6by6v-wpengine.netdna-ssl.com (3qeqpr26caki16dnhd19sv6by6v-wpengine.netdna-ssl.com)|108.161.188.224|:443... connected.\n",
            "HTTP request sent, awaiting response... 200 OK\n",
            "Length: 38658 (38K) [image/jpeg]\n",
            "Saving to: ‘sharon_stone2.jpg’\n",
            "\n",
            "\rsharon_stone2.jpg     0%[                    ]       0  --.-KB/s               \rsharon_stone2.jpg   100%[===================>]  37.75K  --.-KB/s    in 0.01s   \n",
            "\n",
            "2019-11-08 13:20:01 (3.53 MB/s) - ‘sharon_stone2.jpg’ saved [38658/38658]\n",
            "\n"
          ],
          "name": "stdout"
        }
      ]
    },
    {
      "cell_type": "code",
      "metadata": {
        "id": "APsBWmlALARV",
        "colab_type": "code",
        "colab": {
          "base_uri": "https://localhost:8080/",
          "height": 224
        },
        "outputId": "7ce3b7eb-8d06-40e6-fda3-1080bf330bef"
      },
      "source": [
        "!wget https://3qeqpr26caki16dnhd19sv6by6v-wpengine.netdna-ssl.com/wp-content/uploads/2019/03/sharon_stone3.jpg"
      ],
      "execution_count": 20,
      "outputs": [
        {
          "output_type": "stream",
          "text": [
            "--2019-11-08 13:20:18--  https://3qeqpr26caki16dnhd19sv6by6v-wpengine.netdna-ssl.com/wp-content/uploads/2019/03/sharon_stone3.jpg\n",
            "Resolving 3qeqpr26caki16dnhd19sv6by6v-wpengine.netdna-ssl.com (3qeqpr26caki16dnhd19sv6by6v-wpengine.netdna-ssl.com)... 108.161.188.224\n",
            "Connecting to 3qeqpr26caki16dnhd19sv6by6v-wpengine.netdna-ssl.com (3qeqpr26caki16dnhd19sv6by6v-wpengine.netdna-ssl.com)|108.161.188.224|:443... connected.\n",
            "HTTP request sent, awaiting response... 200 OK\n",
            "Length: 4352336 (4.2M) [image/jpeg]\n",
            "Saving to: ‘sharon_stone3.jpg’\n",
            "\n",
            "sharon_stone3.jpg   100%[===================>]   4.15M  5.46MB/s    in 0.8s    \n",
            "\n",
            "2019-11-08 13:20:19 (5.46 MB/s) - ‘sharon_stone3.jpg’ saved [4352336/4352336]\n",
            "\n"
          ],
          "name": "stdout"
        }
      ]
    },
    {
      "cell_type": "code",
      "metadata": {
        "id": "3LsAo7uTLE20",
        "colab_type": "code",
        "colab": {
          "base_uri": "https://localhost:8080/",
          "height": 71
        },
        "outputId": "e292a83b-273a-4a10-c72d-be13e0634acd"
      },
      "source": [
        "# define filenames\n",
        "filenames = ['sharon_stone1.jpg', 'sharon_stone2.jpg',\n",
        "\t'sharon_stone3.jpg', 'channing_tatum.jpg']\n",
        "# get embeddings file filenames\n",
        "embeddings = get_embeddings(filenames)"
      ],
      "execution_count": 21,
      "outputs": [
        {
          "output_type": "stream",
          "text": [
            "Downloading data from https://github.com/rcmalli/keras-vggface/releases/download/v2.0/rcmalli_vggface_tf_notop_resnet50.h5\n",
            "94699520/94694792 [==============================] - 3s 0us/step\n"
          ],
          "name": "stdout"
        }
      ]
    },
    {
      "cell_type": "code",
      "metadata": {
        "id": "CQ3_R8lbLRJE",
        "colab_type": "code",
        "colab": {
          "base_uri": "https://localhost:8080/",
          "height": 68
        },
        "outputId": "d5f42744-4639-4e88-c591-858f2e5a7bcf"
      },
      "source": [
        "# define sharon stone\n",
        "sharon_id = embeddings[0]\n",
        "# verify known photos of sharon\n",
        "print('Positive Tests')\n",
        "is_match(embeddings[0], embeddings[1])\n",
        "is_match(embeddings[0], embeddings[2])"
      ],
      "execution_count": 22,
      "outputs": [
        {
          "output_type": "stream",
          "text": [
            "Positive Tests\n",
            ">face is a Match (0.418 <= 0.500)\n",
            ">face is a Match (0.295 <= 0.500)\n"
          ],
          "name": "stdout"
        }
      ]
    },
    {
      "cell_type": "code",
      "metadata": {
        "id": "Rls8H43ELcAR",
        "colab_type": "code",
        "colab": {
          "base_uri": "https://localhost:8080/",
          "height": 51
        },
        "outputId": "641de982-a27e-4981-afc4-37aef56689ef"
      },
      "source": [
        "# verify known photos of other people\n",
        "print('Negative Tests')\n",
        "is_match(embeddings[0], embeddings[3])"
      ],
      "execution_count": 23,
      "outputs": [
        {
          "output_type": "stream",
          "text": [
            "Negative Tests\n",
            ">face is NOT a Match (0.709 > 0.500)\n"
          ],
          "name": "stdout"
        }
      ]
    }
  ]
}